{
 "cells": [
  {
   "cell_type": "markdown",
   "id": "15850ad1-a164-42fb-a9fb-415ab06a22b9",
   "metadata": {},
   "source": [
    "# Calling Transformation API from Python\n",
    "\n",
    "This is a basic example of the usage of the Python requests module with the NSGI Coördinatentransformatie-API:\n",
    "https://www.nsgi.nl/coordinatentransformatie-api\n",
    "\n",
    "The points used in this example are the first three points of the zelfvalidatie dataset found at:\n",
    "https://www.nsgi.nl/geodetische-infrastructuur/producten/programma-rdnaptrans/zelfvalidatie\n",
    "\n",
    "The Python requests module is used to call the API, the getpass module to securely store the API key and the json module for encoding and decoding."
   ]
  },
  {
   "cell_type": "code",
   "execution_count": null,
   "id": "8265c0fb-37c2-4650-8d43-dcc6d4f7f703",
   "metadata": {},
   "outputs": [],
   "source": [
    "import requests\n",
    "import getpass\n",
    "import json"
   ]
  },
  {
   "cell_type": "markdown",
   "id": "d1c44b9c-75e6-4211-b511-e077a85198d1",
   "metadata": {},
   "source": [
    "Set the URL of the API and securely enter the API key:"
   ]
  },
  {
   "cell_type": "code",
   "execution_count": null,
   "id": "b50ba358-a28a-448b-a35a-6bf4fd929a26",
   "metadata": {},
   "outputs": [],
   "source": [
    "url = 'https://api.transformation.nsgi.nl/v1/transform'\n",
    "\n",
    "my_api_key = getpass.getpass()"
   ]
  },
  {
   "cell_type": "markdown",
   "id": "5ccc5e44-6c9a-42d8-ba0a-8ddb52b83b6a",
   "metadata": {},
   "source": [
    "## ETRS89 -> RDNAP\n",
    "\n",
    "First we are going to perform the transformation from ETRS89 to RDNAP.\n",
    "\n",
    "The required input data as a Python dictionary looks like:"
   ]
  },
  {
   "cell_type": "code",
   "execution_count": null,
   "id": "1c5afc4a-19ca-48b4-be7c-0a494a0548b0",
   "metadata": {},
   "outputs": [],
   "source": [
    "etrs89_dict = {\n",
    "    'data':\n",
    "    {\n",
    "        'type': 'MultiPoint',\n",
    "        'coordinates': [[108360.8790, 415757.2745, 258.0057], [312352.6004, 461058.5812, -2.5206], [18940.4448, 559061.2153, 29.9951]]\n",
    "    }\n",
    "}"
   ]
  },
  {
   "cell_type": "markdown",
   "id": "fee4c5e9-5017-484b-8d1a-2dec9be05028",
   "metadata": {},
   "source": [
    "This can be converted into a JSON string using the json module and prints as a single long string."
   ]
  },
  {
   "cell_type": "code",
   "execution_count": null,
   "id": "327428d2-6ab9-4890-ab4d-6bcf67bccf6f",
   "metadata": {},
   "outputs": [],
   "source": [
    "data_etrs89 = json.dumps(etrs89_dict)\n",
    "\n",
    "print(data_etrs89)"
   ]
  },
  {
   "cell_type": "markdown",
   "id": "42e8739f-d2c2-4f05-b18b-a0e825505b2b",
   "metadata": {},
   "source": [
    "The headers required by the API to transform from ETRS89 to RDNAP can be stored in a dictionary:"
   ]
  },
  {
   "cell_type": "code",
   "execution_count": null,
   "id": "34aaad04-bfa2-480e-9b8b-872734e77098",
   "metadata": {},
   "outputs": [],
   "source": [
    "etrs89_to_rdnap = {\n",
    "    'Accept-Crs': 'EPSG:7415',\n",
    "    'Content-Crs': 'EPSG:7931',\n",
    "    'X-Api-Key': my_api_key,\n",
    "    'Content-Type': 'application/json'\n",
    "}"
   ]
  },
  {
   "cell_type": "markdown",
   "id": "0c5d0040-523c-4e3d-a291-0361635022b5",
   "metadata": {},
   "source": [
    "Calling the API happens via a POST request using the requests module:"
   ]
  },
  {
   "cell_type": "code",
   "execution_count": null,
   "id": "a4316749-02f4-40e2-806d-b9b65418f53b",
   "metadata": {},
   "outputs": [],
   "source": [
    "r = requests.post(url, data=data_etrs89, headers=etrs89_to_rdnap)"
   ]
  },
  {
   "cell_type": "markdown",
   "id": "e5c526cb-7f3d-4abc-9c82-fa58dd93d899",
   "metadata": {},
   "source": [
    "The API returns a JSON string which can be pretty printed using:"
   ]
  },
  {
   "cell_type": "code",
   "execution_count": null,
   "id": "c19d0dce-ca1f-4cad-818a-d91ebcf10991",
   "metadata": {},
   "outputs": [],
   "source": [
    "json.loads(r.content)"
   ]
  },
  {
   "cell_type": "markdown",
   "id": "e01ecc88-84bc-462d-8e3a-93e27522bdc9",
   "metadata": {},
   "source": [
    "## RDNAP -> ETRS89\n",
    "\n",
    "The transformation from RDNAP to ETRS89 is shown without using the json module."
   ]
  },
  {
   "cell_type": "code",
   "execution_count": null,
   "id": "84aa2866-d610-4b6c-b029-6147585db9af",
   "metadata": {},
   "outputs": [],
   "source": [
    "data_rdnap = (\n",
    "    '{ \"data\": { \"type\": \"MultiPoint\", \"coordinates\": '\n",
    "    '[[108360.8790, 415757.2745, 258.0057], '\n",
    "    '[312352.6004, 461058.5812, -2.5206], '\n",
    "    '[18940.4448, 559061.2153, 29.9951]] } }'\n",
    ")"
   ]
  },
  {
   "cell_type": "code",
   "execution_count": null,
   "id": "d5d69b15-ae23-4ae7-8e17-20e3b6526ab9",
   "metadata": {},
   "outputs": [],
   "source": [
    "rdnap_to_etrs89 = {\n",
    "    'Accept-Crs': 'EPSG:7931',\n",
    "    'Content-Crs': 'EPSG:7415',\n",
    "    'X-Api-Key': my_api_key,\n",
    "    'Content-Type': 'application/json'\n",
    "}"
   ]
  },
  {
   "cell_type": "code",
   "execution_count": null,
   "id": "80b5e7c3-04bb-4d39-a090-f83391abf443",
   "metadata": {},
   "outputs": [],
   "source": [
    "r = requests.post(url, data=data_rdnap, headers=rdnap_to_etrs89)"
   ]
  },
  {
   "cell_type": "code",
   "execution_count": null,
   "id": "fb33ce23-8992-4348-b3e9-db022adf7713",
   "metadata": {},
   "outputs": [],
   "source": [
    "r.content"
   ]
  }
 ],
 "metadata": {
  "kernelspec": {
   "display_name": "Python 3 (ipykernel)",
   "language": "python",
   "name": "python3"
  },
  "language_info": {
   "codemirror_mode": {
    "name": "ipython",
    "version": 3
   },
   "file_extension": ".py",
   "mimetype": "text/x-python",
   "name": "python",
   "nbconvert_exporter": "python",
   "pygments_lexer": "ipython3",
   "version": "3.9.10"
  }
 },
 "nbformat": 4,
 "nbformat_minor": 5
}
