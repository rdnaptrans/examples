{
 "cells": [
  {
   "cell_type": "markdown",
   "id": "15850ad1-a164-42fb-a9fb-415ab06a22b9",
   "metadata": {},
   "source": [
    "# Calling the RDNAPTRANS Coördinatentransformatie-API from Python\n",
    "\n",
    "This is a basic example of the usage of the Python requests module with the NSGI Coördinatentransformatie-API:\n",
    "https://www.nsgi.nl/coordinatentransformatie-api\n",
    "\n",
    "The points used in this example are the first three points of the zelfvalidatie dataset.\n",
    "\n",
    "The API key is stored as an environment variable for the sake of security."
   ]
  },
  {
   "cell_type": "code",
   "execution_count": null,
   "id": "8265c0fb-37c2-4650-8d43-dcc6d4f7f703",
   "metadata": {},
   "outputs": [],
   "source": [
    "import os\n",
    "import json\n",
    "import requests"
   ]
  },
  {
   "cell_type": "code",
   "execution_count": null,
   "id": "b50ba358-a28a-448b-a35a-6bf4fd929a26",
   "metadata": {},
   "outputs": [],
   "source": [
    "url = 'https://api.transformation.nsgi.nl/v1/transform'"
   ]
  },
  {
   "cell_type": "code",
   "execution_count": null,
   "id": "a9d99839-9577-4ca9-b9c5-87e72963b9e2",
   "metadata": {},
   "outputs": [],
   "source": [
    "my_api_key = os.environ['TRAFO_API_KEY']"
   ]
  },
  {
   "cell_type": "markdown",
   "id": "5ccc5e44-6c9a-42d8-ba0a-8ddb52b83b6a",
   "metadata": {},
   "source": [
    "## ETRS89 -> RDNAP"
   ]
  },
  {
   "cell_type": "code",
   "execution_count": null,
   "id": "74d9a633-afe0-458a-b869-45190dbe02ff",
   "metadata": {},
   "outputs": [],
   "source": [
    "data_etrs89 = '{\"data\":{\"type\":\"MultiPoint\",\"coordinates\":[[4.712120126,51.728601274,301.7981],[7.684748554,52.115330444,41.4160],[3.360296728,53.001308983,72.6882]]}}'"
   ]
  },
  {
   "cell_type": "code",
   "execution_count": null,
   "id": "55b73b32-c2a2-446b-b313-10024770d2eb",
   "metadata": {},
   "outputs": [],
   "source": [
    "print(data_etrs89)"
   ]
  },
  {
   "cell_type": "code",
   "execution_count": null,
   "id": "34aaad04-bfa2-480e-9b8b-872734e77098",
   "metadata": {},
   "outputs": [],
   "source": [
    "etrs89_to_rdnap = {\n",
    "    'Accept-Crs': 'EPSG:7415',\n",
    "    'Content-Crs': 'EPSG:7931',\n",
    "    'X-Api-Key': my_api_key,\n",
    "    'Content-Type': 'application/json'\n",
    "}"
   ]
  },
  {
   "cell_type": "code",
   "execution_count": null,
   "id": "a4316749-02f4-40e2-806d-b9b65418f53b",
   "metadata": {},
   "outputs": [],
   "source": [
    "r = requests.post(url, data=data_etrs89, headers=etrs89_to_rdnap)"
   ]
  },
  {
   "cell_type": "code",
   "execution_count": null,
   "id": "c19d0dce-ca1f-4cad-818a-d91ebcf10991",
   "metadata": {},
   "outputs": [],
   "source": [
    "r.content"
   ]
  },
  {
   "cell_type": "markdown",
   "id": "e01ecc88-84bc-462d-8e3a-93e27522bdc9",
   "metadata": {},
   "source": [
    "## RDNAP -> ETRS89"
   ]
  },
  {
   "cell_type": "code",
   "execution_count": null,
   "id": "84aa2866-d610-4b6c-b029-6147585db9af",
   "metadata": {},
   "outputs": [],
   "source": [
    "data_rdnap = (\n",
    "    '{ \"data\": { \"type\": \"MultiPoint\", \"coordinates\": '\n",
    "    '[[108360.8790, 415757.2745, 258.0057], '\n",
    "    '[312352.6004, 461058.5812, -2.5206], '\n",
    "    '[18940.4448, 559061.2153, 29.9951]] } }'\n",
    ")"
   ]
  },
  {
   "cell_type": "code",
   "execution_count": null,
   "id": "d5d69b15-ae23-4ae7-8e17-20e3b6526ab9",
   "metadata": {},
   "outputs": [],
   "source": [
    "rdnap_to_etrs89 = {\n",
    "    'Accept-Crs': 'EPSG:7931',\n",
    "    'Content-Crs': 'EPSG:7415',\n",
    "    'X-Api-Key': my_api_key,\n",
    "    'Content-Type': 'application/json'\n",
    "}"
   ]
  },
  {
   "cell_type": "code",
   "execution_count": null,
   "id": "80b5e7c3-04bb-4d39-a090-f83391abf443",
   "metadata": {},
   "outputs": [],
   "source": [
    "r = requests.post(url, data=data_rdnap, headers=rdnap_to_etrs89)"
   ]
  },
  {
   "cell_type": "code",
   "execution_count": null,
   "id": "1a3e57f4-68b2-4750-9dc7-d080e1df59cf",
   "metadata": {},
   "outputs": [],
   "source": [
    "r.content"
   ]
  },
  {
   "cell_type": "code",
   "execution_count": null,
   "id": "b54a1969-eeae-4cb4-847d-5c77c0dfb979",
   "metadata": {},
   "outputs": [],
   "source": [
    "json.loads(r.content)"
   ]
  },
  {
   "cell_type": "code",
   "execution_count": null,
   "id": "bfc141a5-96e9-4570-9d10-024a58231618",
   "metadata": {},
   "outputs": [],
   "source": []
  }
 ],
 "metadata": {
  "kernelspec": {
   "display_name": "Python 3 (ipykernel)",
   "language": "python",
   "name": "python3"
  },
  "language_info": {
   "codemirror_mode": {
    "name": "ipython",
    "version": 3
   },
   "file_extension": ".py",
   "mimetype": "text/x-python",
   "name": "python",
   "nbconvert_exporter": "python",
   "pygments_lexer": "ipython3",
   "version": "3.9.10"
  }
 },
 "nbformat": 4,
 "nbformat_minor": 5
}
